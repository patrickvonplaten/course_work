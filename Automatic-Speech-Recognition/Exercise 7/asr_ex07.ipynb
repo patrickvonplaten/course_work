{
 "cells": [
  {
   "cell_type": "code",
   "execution_count": null,
   "metadata": {
    "collapsed": true
   },
   "outputs": [],
   "source": [
    "# =================================================\n",
    "# Your names:\n",
    "\n",
    "\n",
    "\n",
    "\n",
    "\n",
    "# =================================================\n",
    "# Automatic Speech Recognition WS-17-18\n",
    "# Exercise 7, Task 7.2\n",
    "\n",
    "# Please make use of the functions and the variables\n",
    "# provided in this notebook when you write your answer codes.\n",
    "import matplotlib.pyplot as plt\n",
    "import numpy as np\n",
    "\n",
    "def Read(filename):\n",
    "    x_data = []\n",
    "    y_data = []\n",
    "    # Read function:\n",
    "    #   Reads the 2D data from the file path\n",
    "    #   Returns a list for each component of the data.\n",
    "    with open(filename) as f:\n",
    "        data_str = f.readlines()\n",
    "        for i in range(0, len(data_str)):\n",
    "            data_point = data_str[i].split()\n",
    "            x_data.append(float(data_point[0]))\n",
    "            y_data.append(float(data_point[1]))\n",
    "        return x_data, y_data"
   ]
  },
  {
   "cell_type": "code",
   "execution_count": null,
   "metadata": {
    "collapsed": true
   },
   "outputs": [],
   "source": [
    "# This is another helper code cell which introduces\n",
    "# the name of variables to be used in your solution\n",
    "# as well as the data you will use.\n",
    "# The task starts at the next cell.\n",
    "\n",
    "# Download the data from L2P and put the path here:\n",
    "data = \"./observations_ex7.data\"\n",
    "data_x, data_y = Read(data)\n",
    "\n",
    "# Visualize the data\n",
    "print(\"Let's see how the data look like.\")\n",
    "plt.scatter(data_x, data_y)\n",
    "plt.show()\n",
    "\n",
    "print(\"We can see 3 or 4 groups of points, right?\\n\")\n",
    "print(\"We will model this data with 4 densities (L=4).\\n\")\n",
    "\n",
    "# Set the hyperparameters given in the text:\n",
    "L = 4  # Maximum number of densities\n",
    "R = 10  # Number of iterations\n",
    "eps_u = [0.1, 0.1]  # Vector: epsilon * u\n",
    "\n",
    "# Number of data points:\n",
    "N = len(data_x)\n",
    "\n",
    "# Compute the initial mean\n",
    "init_mean = [0.,0.]\n",
    "for i in range(0,N):\n",
    "    init_mean[0] += float(data_x[i])\n",
    "    init_mean[1] += float(data_y[i])\n",
    "init_mean[0] *= 1./float(N)\n",
    "init_mean[1] *= 1./float(N)\n",
    "\n",
    "# Compute the initial variance\n",
    "init_var = [0., 0.]\n",
    "for i in range(0,N):\n",
    "    init_var[0] += (data_x[i]-init_mean[0])*(data_x[i]-init_mean[0])\n",
    "    init_var[1] += (data_y[i]-init_mean[1])*(data_y[i]-init_mean[1])\n",
    "init_var[0] *= 1./float(N)\n",
    "init_var[1] *= 1./float(N)\n",
    "\n",
    "def Init():\n",
    "    # Add the initial density to the list.\n",
    "    global Mean\n",
    "    Mean = []  # Mean is a list in which Mean[l] stores the mean vector for the density l.\n",
    "    Mean.append(init_mean)\n",
    "    \n",
    "    global Var\n",
    "    Var = init_var  # Pooled variance.\n",
    "    \n",
    "    global p_l\n",
    "    p_l = []  # Array to store p(l) (cf. the notation given in the sheet).\n",
    "    p_l.append(1)\n",
    "\n",
    "    global N_l  # Array to store N_l (cf. the notation given in the sheet).\n",
    "    N_l = np.zeros([L])  \n",
    "    N_l = list(N_l)\n",
    "    N_l[0] = N\n",
    "    \n",
    "    global A  # Array to store the membership of each point.\n",
    "    A = np.zeros([N], dtype=np.int32)\n",
    "    A = list(A)\n",
    "    print('Initialization done.')\n",
    "\n",
    "Init()\n",
    "print('Initial density:')\n",
    "print('Mean:', Mean[0])\n",
    "print('Variance:', Var)"
   ]
  },
  {
   "cell_type": "code",
   "execution_count": null,
   "metadata": {
    "collapsed": true
   },
   "outputs": [],
   "source": [
    "#   Functions for (a)\n",
    "def Gaussian(x, mean, var):\n",
    "    # Returns p(x|l) (cf. the notation given in the sheet)\n",
    "    # You can use for example np.exp for the exponential\n",
    "    # For the number 'pi', you can e.g. use 'np.pi'\n",
    "    # TODO You code here\n",
    "    return 0\n",
    "\n",
    "def Assign(K):\n",
    "    # Update the membership of each points\n",
    "    # (list A introduced in the previous cell)\n",
    "    # K: current number of densities\n",
    "    # TODO You code here\n",
    "    return 0"
   ]
  },
  {
   "cell_type": "code",
   "execution_count": null,
   "metadata": {
    "collapsed": true
   },
   "outputs": [],
   "source": [
    "# Function for (c)\n",
    "def EstimateParameters(K):\n",
    "    # Re-estimate the means and variances for all densities\n",
    "    # K: current number of densities\n",
    "    # TODO You code here\n",
    "    return 0"
   ]
  },
  {
   "cell_type": "code",
   "execution_count": null,
   "metadata": {
    "collapsed": true
   },
   "outputs": [],
   "source": [
    "# Functions for (d)\n",
    "def FindMinLogLike(K):\n",
    "    # Return the index of the density with the lowest likelihood.\n",
    "    # TODO You code here\n",
    "    return 0\n",
    "\n",
    "def SplitDensity(l):\n",
    "    # Split the density l.\n",
    "    # If needed: When you have a list L, you can use L.pop(n) to remove the\n",
    "    # element in position n of the list L.\n",
    "    # TODO You code here\n",
    "    return 0"
   ]
  },
  {
   "cell_type": "code",
   "execution_count": null,
   "metadata": {
    "collapsed": true
   },
   "outputs": [],
   "source": [
    "Init()\n",
    "# Apply the algorithm to the data.\n",
    "# Report the mean, variance and membership for each split iteration.\n",
    "\n",
    "\n",
    "# TODO You code here\n",
    "\n",
    "\n",
    "# Checkpoint: after the first split, you should get the following:\n",
    "# Mean: [[5.06, 5.33], [2.05, 1.90]]\n",
    "# Var: [3.96, 3.33]\n",
    "# Membership: [1, 1, 1, 1, 0, 1, 1, 1, 0, 0, 1, 0, 0, 0, 0, 0, 0, 0, 0, 0, 0, 0, 0, 0, 0, 0]"
   ]
  },
  {
   "cell_type": "code",
   "execution_count": null,
   "metadata": {
    "collapsed": true
   },
   "outputs": [],
   "source": [
    "# Visualization of the split you obtained\n",
    "\n",
    "# This cell is a helper to show you an example method to plot\n",
    "# data points with different colors.\n",
    "\n",
    "split_example = [1, 1, 1, 1, 0, 1, 1, 1, 0, 0, 1, 0, 0, 0, 0, 0, 0, 0, 0, 0, 0, 0, 0, 0, 0, 0]\n",
    "Colors = ['b', 'r', 'y', 'm']  # blue, red, yellow, magenta. No need to modify this list.\n",
    "\n",
    "color = [Colors[split_example[i]] for i in range(0, N)]  # List of the color for each data point.\n",
    "plt.scatter(data_x, data_y, c=color)  # 'c' argument to provide the color for each point as a list.\n",
    "plt.show()\n",
    "\n",
    "# You will use the next cells below to plot your own results."
   ]
  },
  {
   "cell_type": "code",
   "execution_count": null,
   "metadata": {
    "collapsed": true
   },
   "outputs": [],
   "source": [
    "# Plot for the last question\n",
    "# Split 0\n",
    "print(\"Split 0\")\n",
    "# TODO You code here"
   ]
  },
  {
   "cell_type": "code",
   "execution_count": null,
   "metadata": {
    "collapsed": true
   },
   "outputs": [],
   "source": [
    "# Plot for the last question\n",
    "# Split 1\n",
    "print(\"Split 1\")\n",
    "# TODO You code here"
   ]
  },
  {
   "cell_type": "code",
   "execution_count": null,
   "metadata": {
    "collapsed": true
   },
   "outputs": [],
   "source": [
    "# Plot for the last question\n",
    "# Split 2\n",
    "print(\"Split 2\")\n",
    "# TODO You code here"
   ]
  },
  {
   "cell_type": "code",
   "execution_count": null,
   "metadata": {
    "collapsed": true
   },
   "outputs": [],
   "source": [
    "# Plot for the last question\n",
    "# Split 3\n",
    "print(\"Split 3\")\n",
    "# TODO You code here"
   ]
  },
  {
   "cell_type": "code",
   "execution_count": null,
   "metadata": {
    "collapsed": true
   },
   "outputs": [],
   "source": [
    "# End of the exercise 7.2"
   ]
  }
 ],
 "metadata": {
  "kernelspec": {
   "display_name": "Python 3",
   "language": "python",
   "name": "python3"
  },
  "language_info": {
   "codemirror_mode": {
    "name": "ipython",
    "version": 3
   },
   "file_extension": ".py",
   "mimetype": "text/x-python",
   "name": "python",
   "nbconvert_exporter": "python",
   "pygments_lexer": "ipython3",
   "version": "3.6.2"
  }
 },
 "nbformat": 4,
 "nbformat_minor": 2
}
