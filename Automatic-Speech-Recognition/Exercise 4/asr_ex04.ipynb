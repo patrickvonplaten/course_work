{
 "cells": [
  {
   "cell_type": "code",
   "execution_count": 1,
   "metadata": {
    "collapsed": true
   },
   "outputs": [],
   "source": [
    "# Automatic Speech Recognition WS-17-18\n",
    "# Exercise 4, Task 4.2\n",
    "\n",
    "# If you need a 'inf', you can use float(\"inf\")\n",
    "# which behaves as a infinite number w.r.t. addition.\n",
    "\n",
    "# Please make use of the functions and the variables\n",
    "# provided in this block when you write your answer codes.\n",
    "\n",
    "import matplotlib.pyplot as plt\n",
    "import numpy as np\n",
    "import math\n",
    "\n",
    "# Utilities\n",
    "def Read(filename):\n",
    "    data = []\n",
    "    # Read function\n",
    "    with open(filename) as f:\n",
    "        data_str = f.readlines()\n",
    "        for i in range(0, len(data_str)):\n",
    "            data.append(float(data_str[i].rstrip()))\n",
    "        return data\n",
    "    \n",
    "def Init():\n",
    "    # Initialize the computation counter by 0.\n",
    "    global counter\n",
    "    counter = 0\n",
    "    # Initialize the table of size TxS by -1.\n",
    "    global D\n",
    "    D = -np.ones([T,S])\n",
    "    print(\"Initialization done.\")\n",
    "\n",
    "def dist(x,y):  # l1 distance.\n",
    "    global counter\n",
    "    # We count the number of distance computation.\n",
    "    counter = counter + 1\n",
    "    return np.abs(x-y)\n"
   ]
  },
  {
   "cell_type": "code",
   "execution_count": 12,
   "metadata": {
    "collapsed": false
   },
   "outputs": [
    {
     "name": "stdout",
     "output_type": "stream",
     "text": [
      "Let's see what the data points look like.\n"
     ]
    },
    {
     "data": {
      "image/png": "[encoded data removed]",
      "text/plain": [
       "<matplotlib.figure.Figure at 0x7f6a93786080>"
      ]
     },
     "metadata": {},
     "output_type": "display_data"
    },
    {
     "name": "stdout",
     "output_type": "stream",
     "text": [
      "Initialization done.\n"
     ]
    }
   ],
   "source": [
    "# Introduction: Read the data\n",
    "# This is another helper code block which introduces\n",
    "# the name of variables to be used in your solution.\n",
    "\n",
    "# The tasks start at the next block.\n",
    "\n",
    "# Download the data from L2P and put the paths here:\n",
    "# Small data for quick test:\n",
    "small_test_data = \"small_test.dat\"\n",
    "small_ref_data = \"small_ref.dat\"\n",
    "small_test = Read(small_test_data)\n",
    "small_ref = Read(small_ref_data)\n",
    "# Full data:\n",
    "test_data = \"test.dat\"\n",
    "ref_data = \"ref.dat\"\n",
    "full_test = Read(test_data)\n",
    "full_ref = Read(ref_data)\n",
    "\n",
    "#test = full_test\n",
    "#ref = full_ref\n",
    "# Please use the variable names 'test' and 'ref' in your\n",
    "# answer code. Then, you can run test with the small data\n",
    "# by adding the following lines before your code:\n",
    "test = small_test\n",
    "ref = small_ref\n",
    "\n",
    "# Visualize the data\n",
    "print(\"Let's see what the data points look like.\")\n",
    "plt.plot(test)\n",
    "plt.plot(ref)\n",
    "plt.show()\n",
    "\n",
    "# Define some global variables\n",
    "T = len(test)\n",
    "S = len(ref)\n",
    "\n",
    "maxJump = 2\n",
    "jumpPen = [2, 0, 2] # time distortion penalties\n",
    "# Define containers\n",
    "D = -np.ones([T,S])\n",
    "counter = 0\n",
    "# Initialize the table\n",
    "Init()\n"
   ]
  },
  {
   "cell_type": "code",
   "execution_count": 16,
   "metadata": {
    "collapsed": false
   },
   "outputs": [
    {
     "name": "stdout",
     "output_type": "stream",
     "text": [
      "Task 4.2 (a)\n",
      "[Small data] Global distance is 3101.0\n",
      "    which should be 3101.0\n",
      "[Small data] Number of computation is 24646\n",
      "    which should be 19238\n"
     ]
    }
   ],
   "source": [
    "#   Task 4.2 (a)\n",
    "\n",
    "# For this task, you can first use the small data set.\n",
    "test = small_test\n",
    "ref = small_ref\n",
    "T = len(test)\n",
    "S = len(ref)\n",
    "\n",
    "def Recursive():\n",
    "    print(\"Task 4.2 (a)\")\n",
    "    # TODO: Your task is to implement a helper\n",
    "    # function \"_recursive\" below\n",
    "    return _recursive(T-1,S-1)\n",
    "\n",
    "def _recursive(t,s):\n",
    "    # You code here.\n",
    "    if(t==0 and s==0):\n",
    "        D = dist(test[0],ref[0])\n",
    "    elif(t<1):\n",
    "        D = float('Inf')\n",
    "        global counter \n",
    "        counter += 1\n",
    "    elif(s<1):\n",
    "        D = dist(test[t],ref[s]) + _recursive(t-1,s)+jumpPen[0]\n",
    "    elif(s<2):\n",
    "        D = dist(test[t],ref[s]) + min([_recursive(t-1,s)+jumpPen[0], _recursive(t-1,s-1)+jumpPen[1]])\n",
    "    else:        \n",
    "        D = dist(test[t],ref[s]) + min([_recursive(t-1,s)+jumpPen[0], _recursive(t-1,s-1)+jumpPen[1], _recursive(t-1,s-2)+jumpPen[2]])\n",
    "    return D\n",
    "       # Change the return value.\n",
    "\n",
    "# Here you can test on the small data set.\n",
    "print(\"[Small data] Global distance is\", Recursive())\n",
    "print(\"    which should be 3101.0\")\n",
    "print(\"[Small data] Number of computation is\", counter)\n",
    "print(\"    which should be 19238\")\n",
    "\n",
    "# You can also try to run a test on the full data,\n",
    "# but it should take forever to finish.\n"
   ]
  },
  {
   "cell_type": "code",
   "execution_count": 17,
   "metadata": {
    "collapsed": false
   },
   "outputs": [
    {
     "name": "stdout",
     "output_type": "stream",
     "text": [
      "Initialization done.\n",
      "Task 4.2 (b)\n",
      "Global distance we get is 3101.0\n",
      "    which should be 14925.0\n",
      "Number of computation of our code is 75\n",
      "    which should be 5407\n"
     ]
    }
   ],
   "source": [
    "#   Task 4.2 (b)\n",
    "\n",
    "# For this task, you can try both the small\n",
    "# and the full data.\n",
    "test = small_test\n",
    "ref = small_ref\n",
    "T = len(test)\n",
    "S = len(ref)\n",
    "\n",
    "def Memoization():\n",
    "    print(\"Task 4.2 (b)\")\n",
    "    # TODO: Your task is to implement a helper\n",
    "    # function \"_memoize\" below\n",
    "    return _memoize(T-1, S-1)\n",
    "\n",
    "__cache = {}\n",
    "def _memoize(t, s):\n",
    "    # Your code here.\n",
    "    if (t,s) in __cache:\n",
    "        return __cache[(t,s)] \n",
    "    else:\n",
    "        if(t==0 and s==0):\n",
    "            __cache[(t,s)] = dist(test[0],ref[0])\n",
    "        elif(t<1):\n",
    "            __cache[(t,s)] = float('Inf')\n",
    "            global counter \n",
    "            counter += 1\n",
    "        elif(s<1):\n",
    "            __cache[(t,s)] = dist(test[t],ref[s]) + _memoize(t-1,s)+jumpPen[0]\n",
    "        elif(s<2):\n",
    "            __cache[(t,s)] = dist(test[t],ref[s]) + min([_memoize(t-1,s)+jumpPen[0], _memoize(t-1,s-1)+jumpPen[1]])\n",
    "        else:        \n",
    "            __cache[(t,s)] = dist(test[t],ref[s]) + min([_memoize(t-1,s)+jumpPen[0], _memoize(t-1,s-1)+jumpPen[1], _memoize(t-1,s-2)+jumpPen[2]])\n",
    "    return __cache[(t,s)]\n",
    "\n",
    "Init()\n",
    "print(\"Global distance we get is\", Memoization())\n",
    "print(\"    which should be 14925.0\")\n",
    "print(\"Number of computation of our code is\", counter)\n",
    "print(\"    which should be 5407\")\n",
    "\n",
    "# You can also test on the small data to compare the number\n",
    "# of computation with your code in 4.2.(a), then the number of\n",
    "# computation should be 75."
   ]
  },
  {
   "cell_type": "code",
   "execution_count": 18,
   "metadata": {
    "collapsed": false
   },
   "outputs": [
    {
     "name": "stdout",
     "output_type": "stream",
     "text": [
      "Initialization done.\n",
      "Code for Task 4.2 (c)\n",
      "Global distance is 3101.0\n",
      "    which should be 14925.0\n",
      "Number of computation is 76\n",
      "    which should be equal to 6967 or better.\n"
     ]
    }
   ],
   "source": [
    "#   Task 4.2 (c)\n",
    "\n",
    "# For this task, you can try both the small\n",
    "# and the full data.\n",
    "test = small_test\n",
    "ref = small_ref\n",
    "T = len(test)\n",
    "S = len(ref)\n",
    "\n",
    "def Iterative():\n",
    "    print(\"Code for Task 4.2 (c)\")\n",
    "    return _iterative()\n",
    "\n",
    "def _iterative():\n",
    "    # Preprocessing of boundary conditions\n",
    "    D.fill(float('Inf'))\n",
    "    D[0,0] = dist(test[0],ref[0])\n",
    "    D[0,1] = dist(test[0],ref[1])\n",
    "    for t in range(1,T): D[t,0] = dist(test[t],ref[0]) + D[t-1,0] + jumpPen[0]\n",
    "    for t in range(1,T): D[t,1] = dist(test[t],ref[1]) + min([D[t-1,1]+jumpPen[0], D[t-1,0]+jumpPen[1]])\n",
    "    \n",
    "    # Your code here.\n",
    "    for s in range(2,S):\n",
    "        min_t = int(np.floor((s+1)/2))\n",
    "        for t in range(min_t,T):\n",
    "            D[t,s] = dist(test[t],ref[s]) + min([D[t-1,s]+jumpPen[0], D[t-1,s-1]+jumpPen[1], D[t-1,s-2]+jumpPen[2]])\n",
    "     \n",
    "    return D[T-1,S-1]  # Change the return value.    # Your code here.\n",
    "\n",
    "\n",
    "Init()\n",
    "print(\"Global distance is\", Iterative())\n",
    "print(\"    which should be 14925.0\")\n",
    "print(\"Number of computation is\", counter)\n",
    "print(\"    which should be equal to 6967 or better.\")\n",
    "# You can also test on the small data to compare the number\n",
    "# of computation with your code in 4.2.(a), then the number of\n",
    "# computation should be 91 or better."
   ]
  },
  {
   "cell_type": "code",
   "execution_count": 11,
   "metadata": {
    "collapsed": true
   },
   "outputs": [],
   "source": [
    "# End of the exercise 4.2"
   ]
  },
  {
   "cell_type": "code",
   "execution_count": null,
   "metadata": {
    "collapsed": true
   },
   "outputs": [],
   "source": []
  },
  {
   "cell_type": "code",
   "execution_count": null,
   "metadata": {
    "collapsed": true
   },
   "outputs": [],
   "source": []
  }
 ],
 "metadata": {
  "kernelspec": {
   "display_name": "Python 3",
   "language": "python",
   "name": "python3"
  },
  "language_info": {
   "codemirror_mode": {
    "name": "ipython",
    "version": 3
   },
   "file_extension": ".py",
   "mimetype": "text/x-python",
   "name": "python",
   "nbconvert_exporter": "python",
   "pygments_lexer": "ipython3",
   "version": "3.6.3"
  }
 },
 "nbformat": 4,
 "nbformat_minor": 2
}
