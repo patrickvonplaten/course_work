{
 "cells": [
  {
   "cell_type": "code",
   "execution_count": 2,
   "metadata": {
    "collapsed": true
   },
   "outputs": [],
   "source": [
    "# Automatic Speech Recognition WS-17-18\n",
    "# Exercise 5, Task 5.1\n",
    "\n",
    "# Group number:\n",
    "# Members: Patrick von Platen, Jiyoung An, Jose Monge\n",
    "\n",
    "# =========================================================\n",
    "# Please make use of the functions and the variables\n",
    "# provided in this block when you write your answer codes.\n",
    "\n",
    "# Reminder:\n",
    "# for i in range(0,3):\n",
    "#     ...\n",
    "# In this loop, i goes from 0 to 2.\n",
    "\n",
    "import matplotlib.pyplot as plt\n",
    "import numpy as np\n",
    "import math\n",
    "import decimal\n",
    "\n",
    "# Utilities\n",
    "def Read(filename):\n",
    "    data = []\n",
    "    # Read function:\n",
    "    #   Reads the data from the file path\n",
    "    #   Returns the data as a list\n",
    "    with open(filename) as f:\n",
    "        data_str = f.readlines()\n",
    "        for i in range(0, len(data_str)):\n",
    "            data.append(float(data_str[i].rstrip()))\n",
    "        return data\n",
    "    \n",
    "def Init():\n",
    "    # Initialize the computation counter by 0.\n",
    "    global counter\n",
    "    counter = 0\n",
    "    # Initialize the array of size KxT by 0.\n",
    "    global D\n",
    "    D = np.zeros([K+1,T])\n",
    "    for t in range(1, T):\n",
    "        D[0][t] = float(\"inf\")\n",
    "    # The backpointer array\n",
    "    global B\n",
    "    B = -np.ones([K,T], dtype=np.int)\n",
    "    # The boundaries\n",
    "    global tk\n",
    "    tk = np.zeros(K+1, dtype=np.int)\n",
    "    print(\"Initialization done.\")"
   ]
  },
  {
   "cell_type": "code",
   "execution_count": 3,
   "metadata": {
    "collapsed": false
   },
   "outputs": [
    {
     "name": "stdout",
     "output_type": "stream",
     "text": [
      "Let's see what the data points look like.\n"
     ]
    },
    {
     "data": {
      "image/png": "[encoded data removed]",
      "text/plain": [
       "<matplotlib.figure.Figure at 0x7f664d3e3ef0>"
      ]
     },
     "metadata": {},
     "output_type": "display_data"
    },
    {
     "name": "stdout",
     "output_type": "stream",
     "text": [
      "The objective of this task is to segment this data into 3 parts.\n",
      "Initialization done.\n"
     ]
    }
   ],
   "source": [
    "# This is another helper code cell which introduces\n",
    "# the name of variables to be used in your solution\n",
    "# as well as the data you will use.\n",
    "# The tasks start at the next block.\n",
    "\n",
    "# Download the data from L2P and put the path here:\n",
    "test_data = \"./data_ex05.ascii\"\n",
    "test = Read(test_data)\n",
    "\n",
    "# Visualize the data\n",
    "print(\"Let's see what the data points look like.\")\n",
    "plt.plot(test)\n",
    "plt.show()\n",
    "print(\"The objective of this task is to segment this\"\n",
    "      \" data into 3 parts.\")\n",
    "\n",
    "# Define some global variables\n",
    "# Lengh of the data:\n",
    "T = len(test)\n",
    "# Number of segments:\n",
    "K = 3\n",
    "\n",
    "# Define container\n",
    "D = np.zeros([K+1,T])\n",
    "\n",
    "# Backpointer array:\n",
    "B = -np.ones([K,T])\n",
    "\n",
    "# Boundary indices:\n",
    "tk = np.zeros(K+1, dtype=np.int)\n",
    "\n",
    "# Counter for computation\n",
    "counter = 0\n",
    "# Initialize the table\n",
    "Init()\n"
   ]
  },
  {
   "cell_type": "code",
   "execution_count": 4,
   "metadata": {
    "collapsed": false
   },
   "outputs": [
    {
     "name": "stdout",
     "output_type": "stream",
     "text": [
      "Initialization done.\n",
      "Optimal value is 8.6e+07\n",
      "[Solution] which should be around 8.6*1e7\n",
      "\n",
      "The boundaries we found are:\n",
      "t0 = 0\n",
      "t1 = 22\n",
      "t2 = 116\n",
      "t3 = 145\n",
      "\n",
      "The mean values are:\n",
      "from 0 to 22 : -2335.08695652\n",
      "from 23 to 116 : 1150.92553191\n",
      "from 117 to 145 : -1878.62068966\n",
      "\n",
      "-------------------------------------\n",
      "[Solutions] Theses values should match:\n",
      "t0 = 0\n",
      "t1 = 22\n",
      "t2 = 116\n",
      "t3 = 145\n",
      "which gives the means:\n",
      "from 0 to 22 : -2335.09\n",
      "from 23 to 116 : 1150.93\n",
      "from 117 to 145 : -1878.62\n"
     ]
    }
   ],
   "source": [
    "#   Task 5.1 (b)\n",
    "Init()\n",
    "\n",
    "# You should introduce the two following \n",
    "# fuctions and use them in your code\n",
    "def computeMean(begin, end):\n",
    "    # Returns the mean value of the data\n",
    "    # in the segment [begin, end] (closed)\n",
    "    return sum(test[begin: end+1])/(end + 1 - begin)\n",
    "\n",
    "#given form def computeError(begin, end, mean):\n",
    "def computeError(begin, end):\n",
    "    # Returns the squared error between the data\n",
    "    # and the mean in the segment [begin, end] (closed)\n",
    "    mean = computeMean(begin, end)\n",
    "    return sum([(x - mean)**2 for x in test[begin: end + 1]])\n",
    "\n",
    "# TODO Write your dynamic programming code here:\n",
    "# for k in range(1, K+1): ...\n",
    "\n",
    "DHelp = np.zeros([K + 1, T, T])\n",
    "\n",
    "for k in range(1, K + 1):\n",
    "    for t in range(1, T):\n",
    "        if(k == 1):\n",
    "            DHelp[k][0][t] = computeError(0, t)\n",
    "            D[k] = DHelp[k][0]\n",
    "            for s in range(t+1,T): \n",
    "                DHelp[k][t][s] = computeError(t,s)\n",
    "        else:\n",
    "            minDist = float('inf')\n",
    "            bestPosition = 0\n",
    "            for s in range(2, t-1):\n",
    "                dist = D[k-1][s-1] + DHelp[1][s][t]\n",
    "                if(dist < minDist):\n",
    "                    minDist = dist\n",
    "                    bestPosition = s - 1\n",
    "            B[k - 1][t] = bestPosition\n",
    "            D[k][t] = minDist    \n",
    "\n",
    "# Let's print the global distance:\n",
    "print(\"Optimal value is\", format(D[K][T-1],'0.1e'))\n",
    "print(\"[Solution] which should be around 8.6*1e7\")\n",
    "\n",
    "# Traceback\n",
    "tk = np.zeros(K+1, dtype=np.int)\n",
    "tk[3] = T-1\n",
    "# TODO You code here to get the boundaries\n",
    "# and store them in the array tk\n",
    "for k in reversed(range(1,K)):\n",
    "    tk[k] = B[k][tk[k+1]]\n",
    "    \n",
    "# Let's print the boundaries and means:\n",
    "print(\"\\nThe boundaries we found are:\")\n",
    "for k in range(0,K+1):\n",
    "    print(\"t\", k,\" = \", tk[k], sep=\"\")\n",
    "print(\"\\nThe mean values are:\")\n",
    "prev = 0\n",
    "for k in range(1,K+1):\n",
    "    print(\"from\",prev,\"to\", tk[k], \":\", computeMean(prev, tk[k]))\n",
    "    prev = tk[k] + 1\n",
    "\n",
    "print(\"\\n-------------------------------------\")\n",
    "print(\"[Solutions] Theses values should match:\")\n",
    "print(\"t0 = 0\")\n",
    "print(\"t1 = 22\")\n",
    "print(\"t2 = 116\")\n",
    "print(\"t3 = 145\")\n",
    "print(\"which gives the means:\")\n",
    "print(\"from 0 to 22 : -2335.09\")\n",
    "print(\"from 23 to 116 : 1150.93\")\n",
    "print(\"from 117 to 145 : -1878.62\")\n"
   ]
  },
  {
   "cell_type": "code",
   "execution_count": 5,
   "metadata": {
    "collapsed": false
   },
   "outputs": [
    {
     "data": {
      "image/png": "[encoded data removed]",
      "text/plain": [
       "<matplotlib.figure.Figure at 0x7f66647eddd8>"
      ]
     },
     "metadata": {},
     "output_type": "display_data"
    }
   ],
   "source": [
    "# Visualization of the boundaries you obtained\n",
    "# Nothing is to be implemented in this cell.\n",
    "t0 = 0\n",
    "t3 = T\n",
    "\n",
    "# TODO: Put the boundaries you found:\n",
    "t1 = 22\n",
    "t2 = 116\n",
    "\n",
    "# TODO: Put the mean values you found:\n",
    "mean01 = -2335.08695652\n",
    "mean12 = 1150.92553191\n",
    "mean23 = -1878.62068966\n",
    "\n",
    "x = [t0,t1,t2,t3] \n",
    "y = [mean01, mean01, mean12, mean23] \n",
    "\n",
    "plt.plot(test)\n",
    "plt.step(x, y)\n",
    "plt.show()"
   ]
  },
  {
   "cell_type": "code",
   "execution_count": 6,
   "metadata": {
    "collapsed": false
   },
   "outputs": [
    {
     "name": "stdout",
     "output_type": "stream",
     "text": [
      "Initialization done.\n",
      "\n",
      "The boundaries we found are:\n",
      "t0 = 0\n",
      "t1 = 22\n",
      "t2 = 116\n",
      "t3 = 145\n"
     ]
    }
   ],
   "source": [
    "#   Task 5.1 (d)\n",
    "Init()\n",
    "# hint: You can introduce two lists:\n",
    "S = np.zeros(T+1)  # stores the cumulative sum of the data\n",
    "Q = np.zeros(T+1)  # stores the cumulative sum of the square\n",
    "\n",
    "for t in range(0, T):\n",
    "    # TODO Change the line below\n",
    "    # S stores the cumulative sum\n",
    "    # of the data point:\n",
    "    S[t+1] = S[t] + test[t]\n",
    "    \n",
    "    # TODO Change the line below.\n",
    "    # Q stores the cumulative sum\n",
    "    # of the square of the data point:\n",
    "    Q[t+1] = Q[t] + (test[t]**2)\n",
    "\n",
    "def computeErrorFast(begin, end):\n",
    "    # Returns the squared error between the data\n",
    "    # and the mean in the segment [begin, end] (closed)\n",
    "    # without redundancy.\n",
    "    # TODO Implement this funtion\n",
    "    return Q[end+1] - Q[begin] - ((S[end+1] - S[begin])**2)/(end-begin+1)\n",
    "\n",
    "# TODO Your dynamic programming code here:\n",
    "DHelp = np.zeros([K + 1, T, T])\n",
    "\n",
    "for k in range(1, K + 1):\n",
    "    for t in range(1, T):\n",
    "        if(k == 1):\n",
    "            DHelp[k][0][t] = computeErrorFast(0, t)\n",
    "            D[k] = DHelp[k][0]\n",
    "            for s in range(t+1,T): \n",
    "                DHelp[k][t][s] = computeErrorFast(t,s)\n",
    "        else:\n",
    "            minDist = float('inf')\n",
    "            bestPosition = 0\n",
    "            for s in range(2, t-1):\n",
    "                dist = D[k - 1][s-1] + DHelp[1][s][t]\n",
    "                if(dist < minDist):\n",
    "                    minDist = dist\n",
    "                    bestPosition = s - 1\n",
    "            B[k - 1][t] = bestPosition\n",
    "            D[k][t] = minDist  \n",
    "            \n",
    "# Traceback\n",
    "tk = np.zeros(K+1, dtype=np.int)\n",
    "tk[3] = T-1\n",
    "# TODO You code here to get the boundaries\n",
    "# and store them in the array tk\n",
    "for k in reversed(range(1,K)):\n",
    "    tk[k] = B[k][tk[k+1]]\n",
    "\n",
    "print(\"\\nThe boundaries we found are:\")\n",
    "for k in range(0,K+1):\n",
    "    print(\"t\", k,\" = \", tk[k], sep=\"\")"
   ]
  },
  {
   "cell_type": "markdown",
   "metadata": {
    "collapsed": true
   },
   "source": [
    "# End of the exercise 5.1"
   ]
  },
  {
   "cell_type": "code",
   "execution_count": null,
   "metadata": {
    "collapsed": true
   },
   "outputs": [],
   "source": []
  }
 ],
 "metadata": {
  "kernelspec": {
   "display_name": "Python 3",
   "language": "python",
   "name": "python3"
  },
  "language_info": {
   "codemirror_mode": {
    "name": "ipython",
    "version": 3
   },
   "file_extension": ".py",
   "mimetype": "text/x-python",
   "name": "python",
   "nbconvert_exporter": "python",
   "pygments_lexer": "ipython3",
   "version": "3.6.3"
  }
 },
 "nbformat": 4,
 "nbformat_minor": 2
}
